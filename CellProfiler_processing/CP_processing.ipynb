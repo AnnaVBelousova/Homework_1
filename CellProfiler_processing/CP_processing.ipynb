{
 "cells": [
  {
   "attachments": {},
   "cell_type": "markdown",
   "metadata": {},
   "source": [
    "Import of necessary libraries"
   ]
  },
  {
   "cell_type": "code",
   "execution_count": 2,
   "metadata": {},
   "outputs": [],
   "source": [
    "import pandas as pd"
   ]
  },
  {
   "cell_type": "code",
   "execution_count": 38,
   "metadata": {},
   "outputs": [],
   "source": [
    "path_islet = 'C:\\\\Users\\\\Arteys\\\\Desktop\\\\Anya_work\\\\Insulin_Alexa_488_Glucagon_TexasRed\\\\30 суток\\\\3 (280622)cтранные\\\\Tables\\\\MyExpt_Islets.csv'\n",
    "path_insulin_wo_ds = 'C:\\\\Users\\\\Arteys\\\\Desktop\\\\Anya_work\\\\Insulin_Alexa_488_Glucagon_TexasRed\\\\30 суток\\\\3 (280622)cтранные\\\\Tables\\\\MyExpt_Object_Insulin_wo_double_stain.csv'\n",
    "path_glucagon_wo_ds = 'C:\\\\Users\\\\Arteys\\\\Desktop\\\\Anya_work\\\\Insulin_Alexa_488_Glucagon_TexasRed\\\\30 суток\\\\3 (280622)cтранные\\\\Tables\\\\MyExpt_Object_Glucagon_wo_double_stain.csv'\n",
    "path_Insulin_Glucagon_Nuclei = 'C:\\\\Users\\\\Arteys\\\\Desktop\\\\Anya_work\\\\Insulin_Alexa_488_Glucagon_TexasRed\\\\30 суток\\\\3 (280622)cтранные\\\\Tables\\\\MyExpt_Object_Insulin_Glucagon_Nuclei.csv'\n",
    "path_Islet_nucleus = 'C:\\\\Users\\\\Arteys\\\\Desktop\\\\Anya_work\\\\Insulin_Alexa_488_Glucagon_TexasRed\\\\30 суток\\\\3 (280622)cтранные\\\\Tables\\\\MyExpt_Islet_nucleus.csv'"
   ]
  },
  {
   "cell_type": "code",
   "execution_count": 39,
   "metadata": {},
   "outputs": [],
   "source": [
    "islet_data_df = pd.read_csv(path_islet)\n",
    "insulin_wo_ds_df = pd.read_csv(path_insulin_wo_ds)\n",
    "glucagon_wo_ds_df = pd.read_csv(path_glucagon_wo_ds)\n",
    "Insulin_Glucagon_Nuclei = pd.read_csv(path_Insulin_Glucagon_Nuclei)\n",
    "Islet_nucleus = pd.read_csv(path_Islet_nucleus)\n",
    "# print(insulin_wo_ds_df)\n"
   ]
  },
  {
   "cell_type": "code",
   "execution_count": 41,
   "metadata": {},
   "outputs": [
    {
     "name": "stdout",
     "output_type": "stream",
     "text": [
      "ImageNumber\n",
      "1    20\n",
      "2     2\n",
      "3     5\n",
      "4    14\n",
      "Name: ObjectNumber, dtype: int64\n",
      "ImageNumber\n",
      "1     8\n",
      "3    11\n",
      "4     9\n",
      "Name: ObjectNumber, dtype: int64\n",
      "ImageNumber\n",
      "1    7\n",
      "Name: ObjectNumber, dtype: int64\n",
      "ImageNumber\n",
      "1    50\n",
      "2     4\n",
      "3    63\n",
      "4    54\n",
      "Name: ObjectNumber, dtype: int64\n"
     ]
    }
   ],
   "source": [
    "maximum_insulin_wo = insulin_wo_ds_df.groupby(['ImageNumber'])['ObjectNumber'].max()\n",
    "print(maximum_insulin_wo )\n",
    "maximum_glucagon_wo = glucagon_wo_ds_df.groupby(['ImageNumber'])['ObjectNumber'].max()\n",
    "print(maximum_glucagon_wo)\n",
    "maximum_Insulin_Glucagon_Nuclei = Insulin_Glucagon_Nuclei.groupby(['ImageNumber'])['ObjectNumber'].max()\n",
    "print(maximum_Insulin_Glucagon_Nuclei)\n",
    "maximum_Islet_nucleus = Islet_nucleus.groupby(['ImageNumber'])['ObjectNumber'].max()\n",
    "print(maximum_Islet_nucleus)"
   ]
  },
  {
   "cell_type": "code",
   "execution_count": 13,
   "metadata": {},
   "outputs": [
    {
     "name": "stdout",
     "output_type": "stream",
     "text": [
      "0    133881\n",
      "1     13560\n",
      "2    121876\n",
      "3     82061\n",
      "Name: AreaShape_Area, dtype: int64\n"
     ]
    }
   ],
   "source": [
    "print(islet_data_df['AreaShape_Area'])"
   ]
  }
 ],
 "metadata": {
  "kernelspec": {
   "display_name": "Test2",
   "language": "python",
   "name": "python3"
  },
  "language_info": {
   "codemirror_mode": {
    "name": "ipython",
    "version": 3
   },
   "file_extension": ".py",
   "mimetype": "text/x-python",
   "name": "python",
   "nbconvert_exporter": "python",
   "pygments_lexer": "ipython3",
   "version": "3.10.4"
  },
  "orig_nbformat": 4,
  "vscode": {
   "interpreter": {
    "hash": "5826c9dffd8f398ba2ec065773e9033dfcb1c5cdbed19a224d865b4a10187e77"
   }
  }
 },
 "nbformat": 4,
 "nbformat_minor": 2
}
