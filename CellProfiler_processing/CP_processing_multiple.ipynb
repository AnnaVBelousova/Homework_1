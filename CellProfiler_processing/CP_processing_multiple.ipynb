{
 "cells": [
  {
   "cell_type": "code",
   "execution_count": 98,
   "metadata": {},
   "outputs": [],
   "source": [
    "import pandas as pd # извлекаем панду  \n",
    "import os # для работы с файлами\n",
    "import re # для регулярных выражений\n",
    "import seaborn as sns # для таблиц"
   ]
  },
  {
   "cell_type": "code",
   "execution_count": 66,
   "metadata": {},
   "outputs": [],
   "source": [
    "\n",
    "\n",
    "path_dir = \"C:\\\\Users\\\\Arteys\\\\Desktop\\\\Anya_work\\\\Insulin_Alexa_488_Glucagon_TexasRed\\\\\" # ссылка на самую верхнюю папку"
   ]
  },
  {
   "cell_type": "code",
   "execution_count": 99,
   "metadata": {},
   "outputs": [],
   "source": [
    "def path_to_group_name(dir_adress): # ссылка на таблицу\n",
    "    index_list = []\n",
    "    for index,value in enumerate(dir_adress): # проходим все символы в ссылке\n",
    "        if value == \"/\":\n",
    "            index_list.append(index)\n",
    "    \n",
    "    index_group_start,index_group_end = index_list[5],index_list[6] # вручную смотрим на индексы и вписываем\n",
    "    index_sample_start,index_sample_end = index_list[6],index_list[7] #\n",
    "\n",
    "    group_name = dir_adress[index_group_start+1:index_group_end] # выводим символы  между слешами из ссылки\n",
    "    sample_name = dir_adress[index_sample_start+1:index_sample_end] # \n",
    "    return group_name,sample_name \n"
   ]
  },
  {
   "cell_type": "code",
   "execution_count": 110,
   "metadata": {},
   "outputs": [],
   "source": [
    "empty_data = {'ObjectNumber':[],'Group':[],'Sample':[]} # это словарь. Заголовок и содержание\n",
    "Number_of_nucleus_df = pd.DataFrame(empty_data) # сама таблица. пустая \n",
    "#print(Number_of_nucleus_df)\n",
    "empty_data = {'AreaShape_Area':[],'Group':[],'Sample':[]} # это словарь. Заголовок и содержание\n",
    "islet_data_df = pd.DataFrame(empty_data) # сама таблица. пустая \n",
    "#print(islet_data_df)\n",
    "\n",
    "empty_data = {'ObjectNumber':[],'Group':[],'Sample':[]} # это словарь. Заголовок и содержание\n",
    "Number_of_insulin_df = pd.DataFrame(empty_data) # сама таблица. пустая \n",
    "#print(Number_of_insulin_df)\n",
    "empty_data = {'ObjectNumber':[],'Group':[],'Sample':[]} # это словарь. Заголовок и содержание\n",
    "Number_of_glucagon_df = pd.DataFrame(empty_data) # сама таблица. пустая \n",
    "#print(Number_of_glucagon_df)\n",
    "empty_data = {'ObjectNumber':[],'Group':[],'Sample':[]} # это словарь. Заголовок и содержание\n",
    "Number_of_glins_df = pd.DataFrame(empty_data) # сама таблица. пустая \n",
    "#print(Number_of_glins_df)\n"
   ]
  },
  {
   "cell_type": "code",
   "execution_count": null,
   "metadata": {},
   "outputs": [],
   "source": [
    "# for address, dirs, files in os.walk(path_dir): # выдает строку с адресом последней папки(address), название всех папок(dirs), название файлов\n",
    "#     for file in files:\n",
    "#         if \".csv\" in str(file):\n",
    "#             full_path = os.path.join(address, file) # добавляет файл к адресу\n",
    "#             correct_path = full_path.replace(\"\\\\\",\"/\")\n",
    "#             group_name,sample_name = path_to_group_name(correct_path)\n",
    "\n",
    "\n",
    "            # if \"MyExpt_Islet_nucleus\" in str(file):\n",
    "            #     number_of_nucleus_data_df = pd.read_csv(correct_path)\n",
    "            #     data_n = number_of_nucleus_data_df.groupby(['ImageNumber'])['ObjectNumber'].max() #максимальное число ядер в островке\n",
    "\n",
    "            #     data_n_pd = pd.DataFrame(data_n)\n",
    "\n",
    "\n",
    "            #     #data_n = number_of_nucleus_data_df[['Number_of_nucleus']].copy() # берем одну колонку из большой таблицы\n",
    "            #     data_n_pd['Group'] = group_name # создали колонку \"группа\" и назвали ее символами, которые между слешами в первой части программы\n",
    "            #     data_n_pd['Sample'] = sample_name\n",
    "\n",
    "            #     Number_of_nucleus_df = pd.concat([Number_of_nucleus_df,data_n_pd],axis=0)\n",
    "\n",
    "                \n",
    "            # if \"Islets\" in str(file):\n",
    "            #     islet_data_df_i = pd.read_csv(correct_path)\n",
    "\n",
    "            #     data_i = islet_data_df_i[['AreaShape_Area']].copy() # берем одну колонку из большой таблицы\n",
    "            #     data_i['Group'] = group_name # создали колонку \"группа\" и назвали ее символами, которые между слешами в первой части программы\n",
    "            #     data_i['Sample'] = sample_name\n",
    "\n",
    "\n",
    "            #     islet_data_df = pd.concat([islet_data_df,data_i],axis=0)\n",
    "            # if \"MyExpt_Object_Insulin_wo_double_stain\" in str(file):\n",
    "            #     insulin_data_df = pd.read_csv(correct_path)\n",
    "\n",
    "            #     data_ins = insulin_data_df.groupby(['ImageNumber'])['ObjectNumber'].max() #берем колонку из большой таблицы и считаем максимальное число ядер в островке\n",
    "\n",
    "            #     data_ins_pd = pd.DataFrame(data_ins)\n",
    "\n",
    "\n",
    "            #     #data_n = number_of_nucleus_data_df[['Number_of_nucleus']].copy() # берем одну колонку из большой таблицы\n",
    "            #     data_ins_pd['Group'] = group_name # создали колонку \"группа\" и назвали ее символами, которые между слешами в первой части программы\n",
    "            #     data_ins_pd['Sample'] = sample_name\n",
    "\n",
    "            #     Number_of_insulin_df = pd.concat([Number_of_insulin_df,data_ins_pd],axis=0)\n",
    "                \n",
    "            # if \"MyExpt_Object_Glucagon_wo_double_stain\" in str(file):\n",
    "            #     glucagon_data_df = pd.read_csv(correct_path)\n",
    "\n",
    "            #     data_gl = glucagon_data_df.groupby(['ImageNumber'])['ObjectNumber'].max() #берем колонку из большой таблицы и считаем максимальное число ядер в островке\n",
    "\n",
    "            #     data_gl_pd = pd.DataFrame(data_gl)\n",
    "\n",
    "\n",
    "               \n",
    "            #     data_gl_pd['Group'] = group_name # создали колонку \"группа\" и назвали ее символами, которые между слешами в первой части программы\n",
    "            #     data_gl_pd['Sample'] = sample_name\n",
    "\n",
    "            #     Number_of_glucagon_df = pd.concat([Number_of_glucagon_df,data_gl_pd],axis=0)\n",
    "\n",
    "            # if \"MyExpt_Object_Insulin_Glucagon_Nuclei\" in str(file):\n",
    "            #     glins_data_df = pd.read_csv(correct_path)\n",
    "\n",
    "            #     data_glins = glins_data_df.groupby(['ImageNumber'])['ObjectNumber'].max() #берем колонку из большой таблицы и считаем максимальное число ядер в островке\n",
    "\n",
    "            #     data_glins_pd = pd.DataFrame(data_glins)\n",
    "\n",
    "\n",
    "               \n",
    "            #     data_glins_pd['Group'] = group_name # создали колонку \"группа\" и назвали ее символами, которые между слешами в первой части программы\n",
    "            #     data_glins_pd['Sample'] = sample_name\n",
    "\n",
    "            #     Number_of_glins_df = pd.concat([Number_of_glins_df,data_glins_pd],axis=0)\n",
    "\n",
    "\n",
    "# print(islet_data_df)\n",
    "# print(Number_of_nucleus_df)\n",
    "#print(Number_of_insulin_df)\n",
    "#print(Number_of_glucagon_df)\n",
    "# print(Number_of_glins_df)\n"
   ]
  },
  {
   "cell_type": "code",
   "execution_count": 129,
   "metadata": {},
   "outputs": [
    {
     "name": "stdout",
     "output_type": "stream",
     "text": [
      "    ObjectNumber    Group                     Sample\n",
      "1          395.0  60_days  6 )2-17) Middle with DAPI\n",
      "2           99.0  60_days  6 )2-17) Middle with DAPI\n",
      "3          209.0  60_days  6 )2-17) Middle with DAPI\n",
      "4          259.0  60_days  6 )2-17) Middle with DAPI\n",
      "5           89.0  60_days  6 )2-17) Middle with DAPI\n",
      "..           ...      ...                        ...\n",
      "2           25.0   Intact                        Int\n",
      "3           55.0   Intact                        Int\n",
      "5           23.0   Intact                        Int\n",
      "6          130.0   Intact                        Int\n",
      "7          155.0   Intact                        Int\n",
      "\n",
      "[169 rows x 3 columns]\n",
      "    ObjectNumber    Group                     Sample\n",
      "1          365.0  60_days  6 )2-17) Middle with DAPI\n",
      "2           89.0  60_days  6 )2-17) Middle with DAPI\n",
      "3          190.0  60_days  6 )2-17) Middle with DAPI\n",
      "4          219.0  60_days  6 )2-17) Middle with DAPI\n",
      "5           78.0  60_days  6 )2-17) Middle with DAPI\n",
      "..           ...      ...                        ...\n",
      "2            4.0   Intact                        Int\n",
      "3            6.0   Intact                        Int\n",
      "5            3.0   Intact                        Int\n",
      "6          113.0   Intact                        Int\n",
      "7           29.0   Intact                        Int\n",
      "\n",
      "[163 rows x 3 columns]\n",
      "    ObjectNumber    Group                     Sample\n",
      "1           30.0  60_days  6 )2-17) Middle with DAPI\n",
      "2           13.0  60_days  6 )2-17) Middle with DAPI\n",
      "3            9.0  60_days  6 )2-17) Middle with DAPI\n",
      "4            8.0  60_days  6 )2-17) Middle with DAPI\n",
      "5           26.0  60_days  6 )2-17) Middle with DAPI\n",
      "..           ...      ...                        ...\n",
      "2            4.0   Intact                        Int\n",
      "3            4.0   Intact                        Int\n",
      "5           23.0   Intact                        Int\n",
      "6           35.0   Intact                        Int\n",
      "7            7.0   Intact                        Int\n",
      "\n",
      "[151 rows x 3 columns]\n",
      "    ObjectNumber    Group                     Sample\n",
      "1           22.0  60_days  6 )2-17) Middle with DAPI\n",
      "2            5.0  60_days  6 )2-17) Middle with DAPI\n",
      "3            1.0  60_days  6 )2-17) Middle with DAPI\n",
      "5            8.0  60_days  6 )2-17) Middle with DAPI\n",
      "6           22.0  60_days  6 )2-17) Middle with DAPI\n",
      "..           ...      ...                        ...\n",
      "8           67.0   Intact                        Int\n",
      "1            2.0   Intact                        Int\n",
      "2           21.0   Intact                        Int\n",
      "3           50.0   Intact                        Int\n",
      "7          130.0   Intact                        Int\n",
      "\n",
      "[155 rows x 3 columns]\n",
      "    AreaShape_Area    Group                     Sample\n",
      "0         422396.0  60_days  6 )2-17) Middle with DAPI\n",
      "1         111619.0  60_days  6 )2-17) Middle with DAPI\n",
      "2         203787.0  60_days  6 )2-17) Middle with DAPI\n",
      "3         174128.0  60_days  6 )2-17) Middle with DAPI\n",
      "4          77370.0  60_days  6 )2-17) Middle with DAPI\n",
      "..             ...      ...                        ...\n",
      "2         651900.0   Intact                        Int\n",
      "3          88815.0   Intact                        Int\n",
      "4         277876.0   Intact                        Int\n",
      "5         154769.0   Intact                        Int\n",
      "6         200748.0   Intact                        Int\n",
      "\n",
      "[276 rows x 3 columns]\n"
     ]
    }
   ],
   "source": [
    "\n",
    "def Count_of_objects(correct_path):\n",
    "    #empty_data = {'ObjectNumber':[],'Group':[],'Sample':[]} # это словарь. Заголовок и содержание\n",
    "    #Number_of_nucleus_df = pd.DataFrame(empty_data) # сама таблица. пустая \n",
    "    number_of_nucleus_data_df = pd.read_csv(correct_path)\n",
    "    data_n = number_of_nucleus_data_df.groupby(['ImageNumber'])['ObjectNumber'].max() #максимальное число ядер в островке\n",
    "\n",
    "    data_n_pd = pd.DataFrame(data_n)\n",
    "\n",
    "\n",
    "                #data_n = number_of_nucleus_data_df[['Number_of_nucleus']].copy() # берем одну колонку из большой таблицы\n",
    "    data_n_pd['Group'] = group_name # создали колонку \"группа\" и назвали ее символами, которые между слешами в первой части программы\n",
    "    data_n_pd['Sample'] = sample_name\n",
    "\n",
    "    #Finish_table = pd.concat([Number_of_nucleus_df,data_n_pd],axis=0)\n",
    "    return(data_n_pd)\n",
    "\n",
    "def Count_of_Area(correct_path):\n",
    "    islet_data_df_i = pd.read_csv(correct_path)\n",
    "    data_i = islet_data_df_i[['AreaShape_Area']].copy() # берем одну колонку из большой таблицы\n",
    "    data_i['Group'] = group_name # создали колонку \"группа\" и назвали ее символами, которые между слешами в первой части программы\n",
    "    data_i['Sample'] = sample_name\n",
    "    return(data_i)\n",
    "    \n",
    "\n",
    "for address, dirs, files in os.walk(path_dir): # выдает строку с адресом последней папки(address), название всех папок(dirs), название файлов\n",
    "    for file in files:\n",
    "        if \".csv\" in str(file):\n",
    "            full_path = os.path.join(address, file) # добавляет файл к адресу\n",
    "            correct_path = full_path.replace(\"\\\\\",\"/\")\n",
    "            group_name,sample_name = path_to_group_name(correct_path)\n",
    "\n",
    "            if \"MyExpt_Islet_nucleus\" in str(file):\n",
    "                Result = Count_of_objects(correct_path)\n",
    "                Finish_table = pd.concat([ Finish_table,Result],axis=0)\n",
    "            if \"MyExpt_Object_Insulin_wo_double_stain\" in str(file):\n",
    "                Result = Count_of_objects(correct_path)\n",
    "                Fin_table = pd.concat([Fin_table,Result],axis=0)\n",
    "            if \"MyExpt_Object_Glucagon_wo_double_stain\" in str(file):\n",
    "                Result = Count_of_objects(correct_path)\n",
    "                F_table = pd.concat([F_table,Result],axis=0)\n",
    "            if \"MyExpt_Object_Insulin_Glucagon_Nuclei\" in str(file):\n",
    "                Result = Count_of_objects(correct_path)\n",
    "                Fi_table = pd.concat([Fi_table,Result],axis=0)\n",
    "            if \"Islets\" in str(file):\n",
    "                Result = Count_of_Area(correct_path)\n",
    "                FF_table = pd.concat([FF_table,Result],axis=0)\n",
    "\n",
    "\n",
    "\n",
    "print(Finish_table)\n",
    "print(Fin_table)\n",
    "print(Fi_table)\n",
    "print(F_table)\n",
    "print(FF_table)\n",
    "\n",
    "# Result_table = pd.concat([Finish_table, Fin_table, Fi_table, F_table, FF_table], axis = 0)\n",
    "# print (Result_table)\n",
    "\n"
   ]
  },
  {
   "cell_type": "code",
   "execution_count": 26,
   "metadata": {},
   "outputs": [
    {
     "data": {
      "text/plain": [
       "<AxesSubplot:xlabel='AreaShape_Area', ylabel='Group'>"
      ]
     },
     "execution_count": 26,
     "metadata": {},
     "output_type": "execute_result"
    },
    {
     "data": {
      "image/png": "[encoded data removed]",
      "text/plain": [
       "<Figure size 432x288 with 1 Axes>"
      ]
     },
     "metadata": {
      "needs_background": "light"
     },
     "output_type": "display_data"
    }
   ],
   "source": [
    "sns.barplot(data = islet_data_df, x = 'AreaShape_Area', y = 'Group')"
   ]
  },
  {
   "cell_type": "code",
   "execution_count": 58,
   "metadata": {},
   "outputs": [
    {
     "data": {
      "text/plain": [
       "<AxesSubplot:xlabel='ObjectNumber', ylabel='Group'>"
      ]
     },
     "execution_count": 58,
     "metadata": {},
     "output_type": "execute_result"
    },
    {
     "data": {
      "image/png": "[encoded data removed]",
      "text/plain": [
       "<Figure size 432x288 with 1 Axes>"
      ]
     },
     "metadata": {
      "needs_background": "light"
     },
     "output_type": "display_data"
    }
   ],
   "source": [
    "sns.barplot(data = Number_of_nucleus_df, x = 'ObjectNumber', y = 'Group')"
   ]
  },
  {
   "cell_type": "code",
   "execution_count": 90,
   "metadata": {},
   "outputs": [
    {
     "name": "stdout",
     "output_type": "stream",
     "text": [
      "[2, 8, 15, 23, 33, 69, 77, 79]\n",
      "30_days 2\n"
     ]
    }
   ],
   "source": [
    "test_str = \"C:/Users/Arteys/Desktop/Anya_work/Insulin_Alexa_488_Glucagon_TexasRed/30_days/2/MyExpt_DilateObjects.csv\"\n",
    "\n",
    "name,group = path_to_group_name(test_str)\n",
    "print(name,group)\n",
    "\n",
    "# index_list = []\n",
    "# for index,value in enumerate(test_str):\n",
    "#     if value == \"/\":\n",
    "#         index_list.append(index)\n",
    "\n",
    "# index_start,index_end = index_list[5],index_list[6]\n",
    "# index_sample_start,index_sample_end = index_list[6],index_list[7]\n",
    "\n",
    "# print(index_list)\n",
    "# print(index_sample_start,index_sample_end)\n",
    "# print(test_str[index_start+1:index_end])\n",
    "# print(test_str[index_sample_start+1:index_sample_end])\n"
   ]
  }
 ],
 "metadata": {
  "kernelspec": {
   "display_name": "Python 3",
   "language": "python",
   "name": "python3"
  },
  "language_info": {
   "codemirror_mode": {
    "name": "ipython",
    "version": 3
   },
   "file_extension": ".py",
   "mimetype": "text/x-python",
   "name": "python",
   "nbconvert_exporter": "python",
   "pygments_lexer": "ipython3",
   "version": "3.10.2"
  },
  "orig_nbformat": 4,
  "vscode": {
   "interpreter": {
    "hash": "bd77e5382adf6efaa08b87ef8f7cc4d4ab6a3a8417c5d1f4620176c6b28ea22f"
   }
  }
 },
 "nbformat": 4,
 "nbformat_minor": 2
}
